{
 "cells": [
  {
   "cell_type": "code",
   "execution_count": 39,
   "metadata": {},
   "outputs": [],
   "source": [
    "import sys\n",
    "import importlib\n",
    "def reload_modules(*modules):\n",
    "    for module in modules:\n",
    "        if module.__name__ in sys.modules:\n",
    "            importlib.reload(module)\n",
    "        else:\n",
    "            print(f\"Module {module.__name__} is not currently imported.\")\n",
    "\n",
    "import numpy as np\n",
    "import time\n",
    "import copy\n",
    "from PIL import Image\n",
    "import cv2\n",
    "import os\n",
    "from google import genai\n",
    "import openai\n",
    "from dotenv import load_dotenv\n",
    "from magpie_prompts.prompts import sf_force_thinker, sf_grasp_selection, sf_force_reflection, sf_position_thinker, teleop_velocity\n",
    "from magpie_prompts import conversation\n",
    "from magpie_prompts.conversation import openai_encode_image, build_messages, send_message\n",
    "reload_modules(sf_force_thinker, sf_grasp_selection, sf_position_thinker, conversation, sf_force_reflection)\n",
    "\n",
    "load_dotenv()\n",
    "GEMINI_API_KEY = os.getenv('GEMINI_API_KEY')\n",
    "OPENAI_API_KEY = os.getenv('CORRELL_API_KEY')\n",
    "GEMINI_MODEL_ID = \"gemini-2.0-flash\" # @param [\"gemini-1.5-flash-latest\",\"gemini-2.0-flash-lite\",\"gemini-2.0-flash\",\"gemini-2.5-pro-exp-03-25\"] {\"allow-input\":true}\n",
    "# GEMINI_MODEL_ID = \"gemini-2.0-flash-lite\" # @param [\"gemini-1.5-flash-latest\",\"gemini-2.0-flash-lite\",\"gemini-2.0-flash\",\"gemini-2.5-pro-exp-03-25\"] {\"allow-input\":true}\n",
    "# OPENAI_MODEL_ID = \"gpt-4o-mini\"\n",
    "OPENAI_MODEL_ID = \"gpt-4.1-mini\"\n",
    "gemini_client = genai.Client(api_key=GEMINI_API_KEY)"
   ]
  },
  {
   "cell_type": "code",
   "execution_count": 40,
   "metadata": {},
   "outputs": [],
   "source": [
    "velocity_prompt = teleop_velocity.velocity_prompt\n",
    "# short_prompt = teleop_velocity.short_prompt\n",
    "img = Image.open(\"card_pickup.png\").convert(\"RGB\")\n",
    "# resize image to be 0.5 size\n",
    "img = img.resize((int(img.size[0] * 0.5), int(img.size[1] * 0.5)))\n",
    "user_query = \"pick up the card\"\n",
    "image_response = gemini_client.models.generate_content(\n",
    "    model=GEMINI_MODEL_ID,\n",
    "    contents=[velocity_prompt, f\"task: {user_query}\", img],\n",
    ")\n"
   ]
  },
  {
   "cell_type": "code",
   "execution_count": 42,
   "metadata": {},
   "outputs": [
    {
     "data": {
      "text/plain": [
       "'0.2'"
      ]
     },
     "execution_count": 42,
     "metadata": {},
     "output_type": "execute_result"
    }
   ],
   "source": [
    "image_response.text"
   ]
  }
 ],
 "metadata": {
  "kernelspec": {
   "display_name": "Python 3",
   "language": "python",
   "name": "python3"
  },
  "language_info": {
   "codemirror_mode": {
    "name": "ipython",
    "version": 3
   },
   "file_extension": ".py",
   "mimetype": "text/x-python",
   "name": "python",
   "nbconvert_exporter": "python",
   "pygments_lexer": "ipython3",
   "version": "3.10.1"
  }
 },
 "nbformat": 4,
 "nbformat_minor": 2
}
